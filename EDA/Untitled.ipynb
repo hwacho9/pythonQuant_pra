{
 "cells": [
  {
   "cell_type": "code",
   "execution_count": 1,
   "id": "946e719d",
   "metadata": {},
   "outputs": [],
   "source": [
    "import numpy as np\n",
    "import pandas as pd\n",
    "from IPython.core.interactiveshell import InteractiveShell\n",
    "InteractiveShell.ast_node_interactivity = \"all\"\n",
    "pd.set_option(\"display.float_format\", lambda x: \"%.3f\" % x)\n",
    "pd.set_option(\"max_columns\", None)\n",
    "df = pd.read_csv('C:/Code workspace/파이썬_퀀트/my_data/naver_finance/2015_12.csv')"
   ]
  },
  {
   "cell_type": "code",
   "execution_count": null,
   "id": "f1ab12aa",
   "metadata": {},
   "outputs": [],
   "source": []
  }
 ],
 "metadata": {
  "kernelspec": {
   "display_name": "Python 3",
   "language": "python",
   "name": "python3"
  },
  "language_info": {
   "codemirror_mode": {
    "name": "ipython",
    "version": 3
   },
   "file_extension": ".py",
   "mimetype": "text/x-python",
   "name": "python",
   "nbconvert_exporter": "python",
   "pygments_lexer": "ipython3",
   "version": "3.9.1"
  }
 },
 "nbformat": 4,
 "nbformat_minor": 5
}
