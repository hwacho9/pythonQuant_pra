{
 "cells": [
  {
   "cell_type": "code",
   "execution_count": 39,
   "id": "f071fb2e",
   "metadata": {},
   "outputs": [],
   "source": [
    "import numpy as np\n",
    "import pandas as pd\n",
    "from IPython.core.interactiveshell import InteractiveShell\n",
    "InteractiveShell.ast_node_interactivity = \"all\"\n",
    "pd.set_option(\"display.float_format\", lambda x: \"%.3f\" % x)\n",
    "pd.set_option(\"max_columns\", None)\n",
    "df = pd.read_csv('C:/Code workspace/파이썬_퀀트/my_data/naver_finance/2015_12.csv')"
   ]
  },
  {
   "cell_type": "code",
   "execution_count": 33,
   "id": "22e10302",
   "metadata": {},
   "outputs": [],
   "source": [
    "# string으로 인덱싱을 하면 -> Series로 반환한다\n",
    "series = df['EPS(원)']"
   ]
  },
  {
   "cell_type": "code",
   "execution_count": 36,
   "id": "94ee5677",
   "metadata": {},
   "outputs": [],
   "source": [
    "# list로 인덱싱을 하면 -> DataFrame로 반환한다 \n",
    "df2 = df[['EPS(원)', 'ticker']]"
   ]
  },
  {
   "cell_type": "code",
   "execution_count": 40,
   "id": "6e961eb9",
   "metadata": {},
   "outputs": [
    {
     "data": {
      "text/plain": [
       "pandas.core.series.Series"
      ]
     },
     "execution_count": 40,
     "metadata": {},
     "output_type": "execute_result"
    },
    {
     "data": {
      "text/plain": [
       "pandas.core.frame.DataFrame"
      ]
     },
     "execution_count": 40,
     "metadata": {},
     "output_type": "execute_result"
    }
   ],
   "source": [
    "type(df['순이익률(%)'])                    # column명을 string으로 전달하면 -> Series 반환\n",
    "type(df[['순이익률(%)', '당기순이익(억원)'] ]) # column명을 리스트로 전달하면 -> DAtaFrmae 반환  "
   ]
  },
  {
   "cell_type": "code",
   "execution_count": 41,
   "id": "68d3189b",
   "metadata": {},
   "outputs": [
    {
     "data": {
      "text/html": [
       "<div>\n",
       "<style scoped>\n",
       "    .dataframe tbody tr th:only-of-type {\n",
       "        vertical-align: middle;\n",
       "    }\n",
       "\n",
       "    .dataframe tbody tr th {\n",
       "        vertical-align: top;\n",
       "    }\n",
       "\n",
       "    .dataframe thead th {\n",
       "        text-align: right;\n",
       "    }\n",
       "</style>\n",
       "<table border=\"1\" class=\"dataframe\">\n",
       "  <thead>\n",
       "    <tr style=\"text-align: right;\">\n",
       "      <th></th>\n",
       "      <th>ROE(%)</th>\n",
       "      <th>ROA(%)</th>\n",
       "      <th>ROIC(%)</th>\n",
       "    </tr>\n",
       "  </thead>\n",
       "  <tbody>\n",
       "    <tr>\n",
       "      <th>0</th>\n",
       "      <td>-7.677</td>\n",
       "      <td>-1.421</td>\n",
       "      <td>15.120</td>\n",
       "    </tr>\n",
       "    <tr>\n",
       "      <th>1</th>\n",
       "      <td>22.771</td>\n",
       "      <td>10.327</td>\n",
       "      <td>271.957</td>\n",
       "    </tr>\n",
       "    <tr>\n",
       "      <th>2</th>\n",
       "      <td>9.116</td>\n",
       "      <td>0.609</td>\n",
       "      <td>NaN</td>\n",
       "    </tr>\n",
       "    <tr>\n",
       "      <th>3</th>\n",
       "      <td>3.546</td>\n",
       "      <td>2.024</td>\n",
       "      <td>13.235</td>\n",
       "    </tr>\n",
       "    <tr>\n",
       "      <th>4</th>\n",
       "      <td>5.874</td>\n",
       "      <td>2.365</td>\n",
       "      <td>5.821</td>\n",
       "    </tr>\n",
       "  </tbody>\n",
       "</table>\n",
       "</div>"
      ],
      "text/plain": [
       "   ROE(%)  ROA(%)  ROIC(%)\n",
       "0  -7.677  -1.421   15.120\n",
       "1  22.771  10.327  271.957\n",
       "2   9.116   0.609      NaN\n",
       "3   3.546   2.024   13.235\n",
       "4   5.874   2.365    5.821"
      ]
     },
     "execution_count": 41,
     "metadata": {},
     "output_type": "execute_result"
    }
   ],
   "source": [
    "df[['ROE(%)', 'ROA(%)', 'ROIC(%)']].head()"
   ]
  },
  {
   "cell_type": "code",
   "execution_count": 42,
   "id": "92762e14",
   "metadata": {},
   "outputs": [
    {
     "data": {
      "text/html": [
       "<div>\n",
       "<style scoped>\n",
       "    .dataframe tbody tr th:only-of-type {\n",
       "        vertical-align: middle;\n",
       "    }\n",
       "\n",
       "    .dataframe tbody tr th {\n",
       "        vertical-align: top;\n",
       "    }\n",
       "\n",
       "    .dataframe thead th {\n",
       "        text-align: right;\n",
       "    }\n",
       "</style>\n",
       "<table border=\"1\" class=\"dataframe\">\n",
       "  <thead>\n",
       "    <tr style=\"text-align: right;\">\n",
       "      <th></th>\n",
       "      <th>ROE(%)</th>\n",
       "      <th>ROA(%)</th>\n",
       "      <th>ROIC(%)</th>\n",
       "    </tr>\n",
       "  </thead>\n",
       "  <tbody>\n",
       "    <tr>\n",
       "      <th>0</th>\n",
       "      <td>-7.677</td>\n",
       "      <td>-1.421</td>\n",
       "      <td>15.120</td>\n",
       "    </tr>\n",
       "    <tr>\n",
       "      <th>1</th>\n",
       "      <td>22.771</td>\n",
       "      <td>10.327</td>\n",
       "      <td>271.957</td>\n",
       "    </tr>\n",
       "    <tr>\n",
       "      <th>2</th>\n",
       "      <td>9.116</td>\n",
       "      <td>0.609</td>\n",
       "      <td>NaN</td>\n",
       "    </tr>\n",
       "    <tr>\n",
       "      <th>3</th>\n",
       "      <td>3.546</td>\n",
       "      <td>2.024</td>\n",
       "      <td>13.235</td>\n",
       "    </tr>\n",
       "    <tr>\n",
       "      <th>4</th>\n",
       "      <td>5.874</td>\n",
       "      <td>2.365</td>\n",
       "      <td>5.821</td>\n",
       "    </tr>\n",
       "  </tbody>\n",
       "</table>\n",
       "</div>"
      ],
      "text/plain": [
       "   ROE(%)  ROA(%)  ROIC(%)\n",
       "0  -7.677  -1.421   15.120\n",
       "1  22.771  10.327  271.957\n",
       "2   9.116   0.609      NaN\n",
       "3   3.546   2.024   13.235\n",
       "4   5.874   2.365    5.821"
      ]
     },
     "execution_count": 42,
     "metadata": {},
     "output_type": "execute_result"
    }
   ],
   "source": [
    "df.filter(like=\"RO\").head() #RO 가 있는 column 출력"
   ]
  },
  {
   "cell_type": "code",
   "execution_count": 43,
   "id": "b3d977ad",
   "metadata": {},
   "outputs": [
    {
     "data": {
      "text/html": [
       "<div>\n",
       "<style scoped>\n",
       "    .dataframe tbody tr th:only-of-type {\n",
       "        vertical-align: middle;\n",
       "    }\n",
       "\n",
       "    .dataframe tbody tr th {\n",
       "        vertical-align: top;\n",
       "    }\n",
       "\n",
       "    .dataframe thead th {\n",
       "        text-align: right;\n",
       "    }\n",
       "</style>\n",
       "<table border=\"1\" class=\"dataframe\">\n",
       "  <thead>\n",
       "    <tr style=\"text-align: right;\">\n",
       "      <th></th>\n",
       "      <th>PER(배)</th>\n",
       "      <th>PBR(배)</th>\n",
       "      <th>PSR(배)</th>\n",
       "    </tr>\n",
       "  </thead>\n",
       "  <tbody>\n",
       "    <tr>\n",
       "      <th>0</th>\n",
       "      <td>-19.472</td>\n",
       "      <td>1.453</td>\n",
       "      <td>0.298</td>\n",
       "    </tr>\n",
       "    <tr>\n",
       "      <th>1</th>\n",
       "      <td>28.779</td>\n",
       "      <td>5.665</td>\n",
       "      <td>1.007</td>\n",
       "    </tr>\n",
       "    <tr>\n",
       "      <th>2</th>\n",
       "      <td>4.544</td>\n",
       "      <td>0.389</td>\n",
       "      <td>0.426</td>\n",
       "    </tr>\n",
       "    <tr>\n",
       "      <th>3</th>\n",
       "      <td>29.279</td>\n",
       "      <td>1.014</td>\n",
       "      <td>2.118</td>\n",
       "    </tr>\n",
       "    <tr>\n",
       "      <th>4</th>\n",
       "      <td>40.944</td>\n",
       "      <td>2.146</td>\n",
       "      <td>0.398</td>\n",
       "    </tr>\n",
       "  </tbody>\n",
       "</table>\n",
       "</div>"
      ],
      "text/plain": [
       "   PER(배)  PBR(배)  PSR(배)\n",
       "0 -19.472   1.453   0.298\n",
       "1  28.779   5.665   1.007\n",
       "2   4.544   0.389   0.426\n",
       "3  29.279   1.014   2.118\n",
       "4  40.944   2.146   0.398"
      ]
     },
     "execution_count": 43,
     "metadata": {},
     "output_type": "execute_result"
    }
   ],
   "source": [
    "df.filter(regex=\"P\\w+R\").head() #정규표현식 P로 시작하고 R 로 끝나는"
   ]
  },
  {
   "cell_type": "code",
   "execution_count": null,
   "id": "1b13a0cf",
   "metadata": {},
   "outputs": [],
   "source": []
  }
 ],
 "metadata": {
  "kernelspec": {
   "display_name": "Python 3",
   "language": "python",
   "name": "python3"
  },
  "language_info": {
   "codemirror_mode": {
    "name": "ipython",
    "version": 3
   },
   "file_extension": ".py",
   "mimetype": "text/x-python",
   "name": "python",
   "nbconvert_exporter": "python",
   "pygments_lexer": "ipython3",
   "version": "3.9.1"
  }
 },
 "nbformat": 4,
 "nbformat_minor": 5
}
